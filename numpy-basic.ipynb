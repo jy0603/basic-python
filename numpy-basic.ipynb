{
 "cells": [
  {
   "cell_type": "code",
   "execution_count": 2,
   "metadata": {},
   "outputs": [],
   "source": [
    "import numpy as np\n",
    "import pandas as pd"
   ]
  },
  {
   "cell_type": "markdown",
   "metadata": {},
   "source": [
    "1. arrange(start index, end index, step size)"
   ]
  },
  {
   "cell_type": "code",
   "execution_count": 3,
   "metadata": {},
   "outputs": [
    {
     "name": "stdout",
     "output_type": "stream",
     "text": [
      "before A.shape=  (24,)\n",
      "after reshape A.shape=  (2, 3, 4)\n"
     ]
    }
   ],
   "source": [
    "A=np.arange(2*3*4)\n",
    "print('before A.shape= ', A.shape)\n",
    "A=A.reshape((2,3,4)) # 3차원: cube, 2개의 3 x 4 행렬이 존재.\n",
    "print('after reshape A.shape= ', A.shape)"
   ]
  },
  {
   "cell_type": "code",
   "execution_count": 4,
   "metadata": {},
   "outputs": [
    {
     "data": {
      "text/plain": [
       "array([[[ 0,  1,  2,  3],\n",
       "        [ 4,  5,  6,  7],\n",
       "        [ 8,  9, 10, 11]],\n",
       "\n",
       "       [[12, 13, 14, 15],\n",
       "        [16, 17, 18, 19],\n",
       "        [20, 21, 22, 23]]])"
      ]
     },
     "execution_count": 4,
     "metadata": {},
     "output_type": "execute_result"
    }
   ],
   "source": [
    "# A"
   ]
  },
  {
   "cell_type": "code",
   "execution_count": 5,
   "metadata": {},
   "outputs": [],
   "source": [
    "A = np.arange(2*3*4).reshape((2,3,4)) # 3x 4 matrix 2개\n",
    "B1 = np.arange(2*3*4).reshape((2,3,4)) # 3x 4 matrix 2개\n",
    "B2 = np.arange(2*3*4).reshape((2,4,3)) # 4x3 matrix 2개\n",
    "B3 = np.arange(2*3*4).reshape((3,2,4)) # 2x 4 matrix 3개\n",
    "B4 = np.arange(2*3*4).reshape((3,4,2)) # 4x2 matrix 3개\n",
    "B5 = np.arange(2*3*4).reshape((4,2,3)) # 2x3 matrix 4개\n",
    "B6 = np.arange(2*3*4).reshape((4,3,2)) # 3x2 matrix 4개 "
   ]
  },
  {
   "cell_type": "code",
   "execution_count": 6,
   "metadata": {},
   "outputs": [
    {
     "name": "stdout",
     "output_type": "stream",
     "text": [
      "[[[ 0  1  2  3]\n",
      "  [ 4  5  6  7]\n",
      "  [ 8  9 10 11]]\n",
      "\n",
      " [[12 13 14 15]\n",
      "  [16 17 18 19]\n",
      "  [20 21 22 23]]]\n"
     ]
    }
   ],
   "source": [
    "print(A)"
   ]
  },
  {
   "cell_type": "code",
   "execution_count": 6,
   "metadata": {},
   "outputs": [
    {
     "data": {
      "text/plain": [
       "array([[ 0,  1,  2,  3],\n",
       "       [ 4,  5,  6,  7],\n",
       "       [ 8,  9, 10, 11]])"
      ]
     },
     "execution_count": 6,
     "metadata": {},
     "output_type": "execute_result"
    }
   ],
   "source": [
    "A[0] # 첫번째 행렬 프린트 , same as A[0,:,:]"
   ]
  },
  {
   "cell_type": "code",
   "execution_count": 7,
   "metadata": {},
   "outputs": [
    {
     "data": {
      "text/plain": [
       "array([0, 1, 2, 3])"
      ]
     },
     "execution_count": 7,
     "metadata": {},
     "output_type": "execute_result"
    }
   ],
   "source": [
    "A[0][0] # 첫째 행렬의 첫째 row"
   ]
  },
  {
   "cell_type": "code",
   "execution_count": 18,
   "metadata": {},
   "outputs": [
    {
     "data": {
      "text/plain": [
       "array([[[ 0,  1,  2,  3],\n",
       "        [ 4,  5,  6,  7],\n",
       "        [ 8,  9, 10, 11]]])"
      ]
     },
     "execution_count": 18,
     "metadata": {},
     "output_type": "execute_result"
    }
   ],
   "source": [
    "A[:1] # = A[0]"
   ]
  },
  {
   "cell_type": "code",
   "execution_count": 15,
   "metadata": {},
   "outputs": [
    {
     "data": {
      "text/plain": [
       "array([[0],\n",
       "       [4],\n",
       "       [8]])"
      ]
     },
     "execution_count": 15,
     "metadata": {},
     "output_type": "execute_result"
    }
   ],
   "source": [
    "A[0,:,:1] # :1은 처음인덱스부터 1-1=0인덱스까지 출력.\n",
    "# 첫째 행렬0, row는 조건없으므로 전체:, 모든 row에 대해 숫자는 첫번째만 "
   ]
  },
  {
   "cell_type": "code",
   "execution_count": 7,
   "metadata": {},
   "outputs": [
    {
     "data": {
      "text/plain": [
       "array([0, 1, 2, 3])"
      ]
     },
     "execution_count": 7,
     "metadata": {},
     "output_type": "execute_result"
    }
   ],
   "source": [
    "A[0][0] # 첫번째 행렬의 첫번째 행 프린트"
   ]
  },
  {
   "cell_type": "code",
   "execution_count": 10,
   "metadata": {},
   "outputs": [
    {
     "data": {
      "text/plain": [
       "array([[ 2,  3],\n",
       "       [ 6,  7],\n",
       "       [10, 11]])"
      ]
     },
     "execution_count": 10,
     "metadata": {},
     "output_type": "execute_result"
    }
   ],
   "source": [
    "A[0,:,2:]"
   ]
  },
  {
   "cell_type": "markdown",
   "metadata": {},
   "source": [
    "3. 4차원 배열\n",
    "\n"
   ]
  },
  {
   "cell_type": "code",
   "execution_count": 11,
   "metadata": {},
   "outputs": [
    {
     "data": {
      "text/plain": [
       "array([[[[  28,   34],\n",
       "         [  76,   82],\n",
       "         [ 124,  130]],\n",
       "\n",
       "        [[  76,   98],\n",
       "         [ 252,  274],\n",
       "         [ 428,  450]],\n",
       "\n",
       "        [[ 124,  162],\n",
       "         [ 428,  466],\n",
       "         [ 732,  770]]],\n",
       "\n",
       "\n",
       "       [[[ 172,  226],\n",
       "         [ 604,  658],\n",
       "         [1036, 1090]],\n",
       "\n",
       "        [[ 220,  290],\n",
       "         [ 780,  850],\n",
       "         [1340, 1410]],\n",
       "\n",
       "        [[ 268,  354],\n",
       "         [ 956, 1042],\n",
       "         [1644, 1730]]]])"
      ]
     },
     "execution_count": 11,
     "metadata": {},
     "output_type": "execute_result"
    }
   ],
   "source": [
    "# np.dot(A,B1) # Eror: 마지막원소와 뒤에서 2번째 원소가 다르다.\n",
    "np.dot(A,B2) # (2, 3, 2, 3)\n",
    "\n",
    "np.dot(A,B4) # (2,3,3,2)"
   ]
  },
  {
   "cell_type": "code",
   "execution_count": 13,
   "metadata": {},
   "outputs": [
    {
     "data": {
      "text/plain": [
       "array([[[  42,   48,   54],\n",
       "        [ 114,  136,  158],\n",
       "        [ 186,  224,  262]],\n",
       "\n",
       "       [[ 906,  960, 1014],\n",
       "        [1170, 1240, 1310],\n",
       "        [1434, 1520, 1606]]])"
      ]
     },
     "execution_count": 13,
     "metadata": {},
     "output_type": "execute_result"
    }
   ],
   "source": [
    "np.matmul(A,B2) # (2,3,3)"
   ]
  },
  {
   "cell_type": "markdown",
   "metadata": {},
   "source": [
    "5. matmul과 dot의 연산 차이"
   ]
  },
  {
   "cell_type": "code",
   "execution_count": 25,
   "metadata": {},
   "outputs": [
    {
     "data": {
      "text/plain": [
       "array([[3, 6],\n",
       "       [3, 6]])"
      ]
     },
     "metadata": {},
     "output_type": "display_data"
    },
    {
     "data": {
      "text/plain": [
       "array([[3, 6],\n",
       "       [3, 6]])"
      ]
     },
     "metadata": {},
     "output_type": "display_data"
    }
   ],
   "source": [
    "a=np.array([[1,2],[1,2]])\n",
    "b=np.array([[1,2],[1,2]])\n",
    "\n",
    "display(a@b, np.dot(a,b)) # 2차원의 연산은 둘다 동일한 결과. "
   ]
  },
  {
   "cell_type": "code",
   "execution_count": null,
   "metadata": {},
   "outputs": [],
   "source": []
  },
  {
   "cell_type": "code",
   "execution_count": 14,
   "metadata": {},
   "outputs": [],
   "source": [
    "a = np.random.rand(8,13,13)\n",
    "b = np.random.rand(8,13,13)\n",
    "c = a @ b  # Python 3.5+\n",
    "d = np.dot(a, b)\n"
   ]
  },
  {
   "cell_type": "code",
   "execution_count": 16,
   "metadata": {},
   "outputs": [
    {
     "name": "stdout",
     "output_type": "stream",
     "text": [
      "(8, 13, 13) (8, 13, 13) (8, 13, 13) (8, 13, 8, 13)\n"
     ]
    }
   ],
   "source": [
    "print(a.shape,b.shape,c.shape,d.shape)\n",
    "\n",
    "# matmul은 c를 나타내고 dot은 d연산결과를 나타내는데 dot의 경우 3차원이 4차원으로 반환됨"
   ]
  },
  {
   "cell_type": "markdown",
   "metadata": {},
   "source": [
    "- matmul은 말그대로 행렬 간 곱연산이다. 따라서 각각 행렬에 대한 연산이 이루어짐\n",
    "- dot은 내적으로 dot(A,B) 라면 A의 마지막축과 B의 뒤에서 2번째 축의 내적합으로 연산이 이루어짐"
   ]
  },
  {
   "cell_type": "code",
   "execution_count": 30,
   "metadata": {},
   "outputs": [
    {
     "name": "stdout",
     "output_type": "stream",
     "text": [
      "4x4*3x4x2 dot:\n",
      " [[[232 152]\n",
      "  [125 112]\n",
      "  [125 112]]\n",
      "\n",
      " [[172 116]\n",
      "  [123  76]\n",
      "  [123  76]]\n",
      "\n",
      " [[442 296]\n",
      "  [228 226]\n",
      "  [228 226]]\n",
      "\n",
      " [[962 652]\n",
      "  [465 512]\n",
      "  [465 512]]]\n",
      "\n",
      "[[232 152]\n",
      " [172 116]\n",
      " [442 296]\n",
      " [962 652]]\n",
      "4x4*3x4x2 matmul:\n",
      " [[[232 152]\n",
      "  [172 116]\n",
      "  [442 296]\n",
      "  [962 652]]\n",
      "\n",
      " [[125 112]\n",
      "  [123  76]\n",
      "  [228 226]\n",
      "  [465 512]]\n",
      "\n",
      " [[125 112]\n",
      "  [123  76]\n",
      "  [228 226]\n",
      "  [465 512]]]\n",
      "\n"
     ]
    }
   ],
   "source": [
    "fourbyfour = np.array([\n",
    "                       [1,2,3,4],\n",
    "                       [3,2,1,4],\n",
    "                       [5,4,6,7],\n",
    "                       [11,12,13,14]\n",
    "                      ])\n",
    "\n",
    "\n",
    "threebyfourbytwo = np.array([\n",
    "                             [[2,3],[11,9],[32,21],[28,17]],\n",
    "                             [[2,3],[1,9],[3,21],[28,7]],\n",
    "                             [[2,3],[1,9],[3,21],[28,7]],\n",
    "                            ])\n",
    "\n",
    "print('4x4*3x4x2 dot:\\n {}\\n'.format(np.dot(fourbyfour,threebyfourbytwo)))\n",
    "print(np.matmul(fourbyfour,threebyfourbytwo[0]))\n",
    "\n",
    "print('4x4*3x4x2 matmul:\\n {}\\n'.format(np.matmul(fourbyfour,threebyfourbytwo)))"
   ]
  },
  {
   "cell_type": "markdown",
   "metadata": {},
   "source": [
    "# matmul in 3차원 이상\n",
    "\n",
    "- 대응하는 행 열을 제외한 나머지 배열에서의 원래 인덱스 위치 유지: \n",
    "  (2,3,2)*(2,2,4)=(2,3,4) -> axis=0은 무조건 같아야함."
   ]
  },
  {
   "cell_type": "code",
   "execution_count": null,
   "metadata": {},
   "outputs": [],
   "source": []
  },
  {
   "cell_type": "code",
   "execution_count": null,
   "metadata": {},
   "outputs": [],
   "source": []
  },
  {
   "cell_type": "code",
   "execution_count": null,
   "metadata": {},
   "outputs": [],
   "source": []
  },
  {
   "cell_type": "code",
   "execution_count": null,
   "metadata": {},
   "outputs": [],
   "source": []
  },
  {
   "cell_type": "code",
   "execution_count": null,
   "metadata": {},
   "outputs": [],
   "source": []
  }
 ],
 "metadata": {
  "kernelspec": {
   "display_name": "Python 3",
   "language": "python",
   "name": "python3"
  },
  "language_info": {
   "codemirror_mode": {
    "name": "ipython",
    "version": 3
   },
   "file_extension": ".py",
   "mimetype": "text/x-python",
   "name": "python",
   "nbconvert_exporter": "python",
   "pygments_lexer": "ipython3",
   "version": "3.6.10"
  }
 },
 "nbformat": 4,
 "nbformat_minor": 4
}
