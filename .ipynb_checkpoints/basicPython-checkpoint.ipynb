{
 "cells": [
  {
   "cell_type": "code",
   "execution_count": 1,
   "metadata": {},
   "outputs": [],
   "source": [
    "import pandas as pd\n",
    "import numpy as np"
   ]
  },
  {
   "cell_type": "markdown",
   "metadata": {},
   "source": [
    "# 재귀호출"
   ]
  },
  {
   "cell_type": "markdown",
   "metadata": {},
   "source": [
    "* 재귀호출 예시"
   ]
  },
  {
   "cell_type": "code",
   "execution_count": 3,
   "metadata": {},
   "outputs": [
    {
     "data": {
      "text/plain": [
       "6"
      ]
     },
     "execution_count": 3,
     "metadata": {},
     "output_type": "execute_result"
    }
   ],
   "source": [
    "# 재귀호출로 팩토리얼 구현\n",
    "\n",
    "def factorial(n):\n",
    "    if n in [0,1]:\n",
    "        return 1\n",
    "    \n",
    "    return n*factorial(n-1)\n",
    "\n",
    "\n",
    "factorial(3)"
   ]
  },
  {
   "cell_type": "markdown",
   "metadata": {},
   "source": [
    "* 재귀호출를 쓰는 이유 및 한계\n",
    "\n",
    "\n",
    "1. 재귀호출 쓰는 이유: 가독성, 변수 사용 줄임--> 프로그램 오류 가능성 줄임\n",
    "2. 한계: 메모리를 많이 차지하며 성능이 반복문에 비해 느리다.\n",
    "   재귀함수를 쓰게 되면 함수를 반복적으로 호출하므로 스택 메모리가 커지고, 호출횟수가 많아지면 스택오버플로우가 발생가능함. --> 꼬리 재귀방법으로 해결 가능\n",
    "   \n"
   ]
  },
  {
   "cell_type": "markdown",
   "metadata": {},
   "source": [
    "* 메모리 구현\n",
    "\n",
    "1. 스택 - list를 사용함-> pop, push 내장 함수 이용\n",
    "<br>\n",
    "@property를 사용하는 이유: 변수 변경 시 제한을 두고 싶어서, get,set 함수를 만들지 않고 간단히 접근하기 위해, 하위호환성에 도움을 줌\n",
    "\n",
    "<br>\n",
    "\n"
   ]
  },
  {
   "cell_type": "code",
   "execution_count": 13,
   "metadata": {},
   "outputs": [],
   "source": [
    "class stack:\n",
    "    def __init__(self): # top변수 생성하여 자료를 받는다.\n",
    "        self.top=[]\n",
    "        \n",
    "    def __len__(self):  # stack size\n",
    "        return(self.top)\n",
    "    \n",
    "    def __str__(self): # 스택 내부 자료를 string으로 변환하여 반환\n",
    "        return str(self.top[::1])\n",
    "    \n",
    "    def push(self,top):\n",
    "        self.top.append(top)\n",
    "        \n",
    "    def pop(self):\n",
    "        return self.top.pop()\n",
    "    \n",
    "    @property # 데코레이터: 함수 수정 안하면서 추가 기능 구현\n",
    "    def isEmpty(self): # self.top에 원소가 있으면 False, 없으면 True\n",
    "        return not self.top\n",
    "    "
   ]
  },
  {
   "cell_type": "code",
   "execution_count": 14,
   "metadata": {},
   "outputs": [
    {
     "name": "stdout",
     "output_type": "stream",
     "text": [
      "[]\n",
      "True\n",
      "2\n",
      "False\n",
      "1\n",
      "True\n"
     ]
    }
   ],
   "source": [
    "stk=stack()\n",
    "print(stk)\n",
    "print(stk.isEmpty)\n",
    "stk.push(1)\n",
    "stk.push(2)\n",
    "print(stk.pop())\n",
    "print(stk.isEmpty) # 아직 1이 존재함- False\n",
    "print(stk.pop())\n",
    "print(stk.isEmpty)"
   ]
  },
  {
   "cell_type": "markdown",
   "metadata": {},
   "source": [
    "# private, public, protected"
   ]
  },
  {
   "cell_type": "markdown",
   "metadata": {},
   "source": [
    "2. 접근제어자- 클래스 내부의 method를 외부 클래스나 하위클래스에서 접근하는 것을 제한하는 방법 --> 언더바로써 구현한다.\n",
    "\n",
    "* private: 함수명 앞에 언더바( _ ) 가 2개 있다.<br>\n",
    "* public: 함수명에 아무 밑줄이 없다.<br>\n",
    "* protected:함수명 앞에 언더바( _ ) 가 1개 있다. <br>"
   ]
  },
  {
   "cell_type": "code",
   "execution_count": 20,
   "metadata": {},
   "outputs": [],
   "source": [
    "class Base:  \n",
    "  \n",
    "    # Declaring public method \n",
    "    def fun(self): \n",
    "        print(\"Public method\") \n",
    "  \n",
    "    # Declaring private method \n",
    "    def __fun(self): \n",
    "        print(\"Private method\") \n",
    "  \n",
    "# Creating a derived class  \n",
    "class Derived(Base):  \n",
    "    def __init__(self):  \n",
    "          \n",
    "        # Calling constructor of  \n",
    "        # Base class  \n",
    "        Base.__init__(self)  \n",
    "          \n",
    "    def call_public(self): \n",
    "          \n",
    "        # Calling public method of base class \n",
    "        print(\"\\nInside derived class\") \n",
    "        self.fun() \n",
    "          \n",
    "    def call_private(self): \n",
    "          \n",
    "        self.__fun() # 부모 클래스(Base)의 함수를 불러오는 함수.\n",
    "  \n"
   ]
  },
  {
   "cell_type": "code",
   "execution_count": 23,
   "metadata": {},
   "outputs": [
    {
     "name": "stdout",
     "output_type": "stream",
     "text": [
      "Public method\n",
      "\n",
      "Inside derived class\n",
      "Public method\n"
     ]
    }
   ],
   "source": [
    "# Driver code  \n",
    "obj1 = Base() \n",
    "  \n",
    "# Calling public method \n",
    "obj1.fun() \n",
    "  \n",
    "obj2 = Derived() \n",
    "obj2.call_public() \n"
   ]
  },
  {
   "cell_type": "markdown",
   "metadata": {},
   "source": [
    "아래 코드를 보면 private함수는 부모든 자식이든 다 불러올 수 없다. 즉, private methods는 클래스 내부 뿐만 아니라 클래스 외부에서 모두 불러올 수 없다."
   ]
  },
  {
   "cell_type": "code",
   "execution_count": 24,
   "metadata": {},
   "outputs": [
    {
     "ename": "AttributeError",
     "evalue": "'Derived' object has no attribute '_Derived__fun'",
     "output_type": "error",
     "traceback": [
      "\u001b[1;31m---------------------------------------------------------------------------\u001b[0m",
      "\u001b[1;31mAttributeError\u001b[0m                            Traceback (most recent call last)",
      "\u001b[1;32m<ipython-input-24-49b253731f98>\u001b[0m in \u001b[0;36m<module>\u001b[1;34m\u001b[0m\n\u001b[1;32m----> 1\u001b[1;33m \u001b[0mobj2\u001b[0m\u001b[1;33m.\u001b[0m\u001b[0mcall_private\u001b[0m\u001b[1;33m(\u001b[0m\u001b[1;33m)\u001b[0m \u001b[1;31m# 부모클레스의 함수는 불러올 수 없다.\u001b[0m\u001b[1;33m\u001b[0m\u001b[1;33m\u001b[0m\u001b[0m\n\u001b[0m\u001b[0;32m      2\u001b[0m \u001b[0mobj1\u001b[0m\u001b[1;33m.\u001b[0m\u001b[0m__fun\u001b[0m\u001b[1;33m(\u001b[0m\u001b[1;33m)\u001b[0m \u001b[1;31m# 부모 클래스에서도 private함수면 못불러온다..\u001b[0m\u001b[1;33m\u001b[0m\u001b[1;33m\u001b[0m\u001b[0m\n",
      "\u001b[1;32m<ipython-input-20-62cbee8306a5>\u001b[0m in \u001b[0;36mcall_private\u001b[1;34m(self)\u001b[0m\n\u001b[0;32m     25\u001b[0m     \u001b[1;32mdef\u001b[0m \u001b[0mcall_private\u001b[0m\u001b[1;33m(\u001b[0m\u001b[0mself\u001b[0m\u001b[1;33m)\u001b[0m\u001b[1;33m:\u001b[0m\u001b[1;33m\u001b[0m\u001b[1;33m\u001b[0m\u001b[0m\n\u001b[0;32m     26\u001b[0m \u001b[1;33m\u001b[0m\u001b[0m\n\u001b[1;32m---> 27\u001b[1;33m         \u001b[0mself\u001b[0m\u001b[1;33m.\u001b[0m\u001b[0m__fun\u001b[0m\u001b[1;33m(\u001b[0m\u001b[1;33m)\u001b[0m \u001b[1;31m# 부모 클래스(Base)의 함수를 불러오는 함수.\u001b[0m\u001b[1;33m\u001b[0m\u001b[1;33m\u001b[0m\u001b[0m\n\u001b[0m\u001b[0;32m     28\u001b[0m \u001b[1;33m\u001b[0m\u001b[0m\n",
      "\u001b[1;31mAttributeError\u001b[0m: 'Derived' object has no attribute '_Derived__fun'"
     ]
    }
   ],
   "source": [
    "obj2.call_private() # 부모클레스의 함수는 불러올 수 없다.\n",
    "obj1.__fun() # 부모 클래스에서도 private함수면 못불러온다.."
   ]
  },
  {
   "cell_type": "markdown",
   "metadata": {},
   "source": [
    "그러면 private methods는 어떻게 불러올 수 있는가? 아래 코드를 보면, public methods를 통한 private methods를 통해 불러올 수 있다."
   ]
  },
  {
   "cell_type": "code",
   "execution_count": 25,
   "metadata": {},
   "outputs": [
    {
     "name": "stdout",
     "output_type": "stream",
     "text": [
      "Public method\n",
      "Private method\n"
     ]
    }
   ],
   "source": [
    "class A:  \n",
    "   \n",
    "    # Declaring public method \n",
    "    def fun(self): \n",
    "        print(\"Public method\") \n",
    "   \n",
    "    # Declaring private method \n",
    "    def __fun(self): \n",
    "        print(\"Private method\") \n",
    "      \n",
    "    # public method 내에 private method를 구현함.\n",
    "    def Help(self): \n",
    "        self.fun() \n",
    "        self.__fun() \n",
    "          \n",
    "# Driver's code \n",
    "obj = A() \n",
    "obj.Help() # public 메소드 내에 private method를 작동시키면 가능하다. "
   ]
  },
  {
   "cell_type": "markdown",
   "metadata": {},
   "source": [
    "또한, `Name mangling` 을 통해서 private method를 outside에서 호출할 수 있다."
   ]
  },
  {
   "cell_type": "code",
   "execution_count": 26,
   "metadata": {},
   "outputs": [
    {
     "name": "stdout",
     "output_type": "stream",
     "text": [
      "private method\n"
     ]
    }
   ],
   "source": [
    "# name mangling: __geek를 불러오기 위해 _classname__geek로 대체하여 쓰면 외부에서 \n",
    "# private를 호출할 수 있다. \n",
    "\n",
    "class A:\n",
    "    \n",
    "    def fun(self):\n",
    "        print(\"public method\")\n",
    "        \n",
    "    def __fun(self):\n",
    "        print(\"private method\")\n",
    "        \n",
    "obj=A()\n",
    "obj._A__fun()"
   ]
  },
  {
   "cell_type": "markdown",
   "metadata": {},
   "source": [
    "## private 변수와 property를 포함한 캡슐화\n",
    "\n",
    "- method중 언더바 하나로 시작하는 속성(변수)은 private이다.\n",
    "# https://wikidocs.net/84421"
   ]
  },
  {
   "cell_type": "code",
   "execution_count": null,
   "metadata": {},
   "outputs": [],
   "source": []
  },
  {
   "cell_type": "code",
   "execution_count": null,
   "metadata": {},
   "outputs": [],
   "source": []
  },
  {
   "cell_type": "code",
   "execution_count": null,
   "metadata": {},
   "outputs": [],
   "source": []
  },
  {
   "cell_type": "code",
   "execution_count": null,
   "metadata": {},
   "outputs": [],
   "source": []
  },
  {
   "cell_type": "markdown",
   "metadata": {},
   "source": [
    "# list comprehension \n",
    "- 따로 람다 함수를 사용할 필요가 없다. map, filter 기능 구현 가능\n",
    "- 리스트 뿐만 아니라 iterable한 객체(파이썬에서는 list, str, tuple, dict,range,bytes,set..)에 모두 적용가능.\n",
    "- 출처: https://brownbears.tistory.com/114?category=168282\n",
    "\n",
    "**기본 구조:[{표현식/함수표현식} for {변수} in {반복자/연속열} if {조건 표현식}]**"
   ]
  },
  {
   "cell_type": "code",
   "execution_count": 50,
   "metadata": {},
   "outputs": [
    {
     "name": "stdout",
     "output_type": "stream",
     "text": [
      "<zip object at 0x0000022950108848>\n"
     ]
    }
   ],
   "source": [
    "# zip함수: 여러 sequence를 결합해 iterator 만든다.\n",
    "columns = ['name', 'shares', 'price']\n",
    "values = ['GOOG', 100, 490.1 ]\n",
    "pairs = zip(columns, values)\n",
    "print(pairs)\n"
   ]
  },
  {
   "cell_type": "code",
   "execution_count": 51,
   "metadata": {},
   "outputs": [
    {
     "name": "stdout",
     "output_type": "stream",
     "text": [
      "name GOOG\n",
      "shares 100\n",
      "price 490.1\n"
     ]
    }
   ],
   "source": [
    "# 결과 보려면 반드시 iteration 해야한다.\n",
    "for columns,value in pairs:\n",
    "    print(columns,value)"
   ]
  },
  {
   "cell_type": "code",
   "execution_count": 53,
   "metadata": {},
   "outputs": [
    {
     "data": {
      "text/plain": [
       "[1, 4, 9]"
      ]
     },
     "execution_count": 53,
     "metadata": {},
     "output_type": "execute_result"
    }
   ],
   "source": [
    "# map(함수,리스트) ==> 리스트 각각 원소에 앞의 함수를 각각 적용하겠다.\n",
    "\n",
    "list(map(lambda x:x**2, [1,2,3]))"
   ]
  },
  {
   "cell_type": "code",
   "execution_count": 58,
   "metadata": {},
   "outputs": [
    {
     "data": {
      "text/plain": [
       "14"
      ]
     },
     "execution_count": 58,
     "metadata": {},
     "output_type": "execute_result"
    }
   ],
   "source": [
    "# lambda는 그 자체가 함수이다.\n",
    "\n",
    "(lambda x:x+2)(12)\n"
   ]
  },
  {
   "cell_type": "code",
   "execution_count": 63,
   "metadata": {},
   "outputs": [
    {
     "data": {
      "text/plain": [
       "(5, 6, 7)"
      ]
     },
     "execution_count": 63,
     "metadata": {},
     "output_type": "execute_result"
    }
   ],
   "source": [
    "# filter(함수, 리스트): 리스트 원소들을 함수에 적용시켜 참인 값만 반환\n",
    "\n",
    "tuple(filter(lambda x:x>=5,[3,4,5,6,7]))"
   ]
  },
  {
   "cell_type": "code",
   "execution_count": 27,
   "metadata": {},
   "outputs": [
    {
     "name": "stdout",
     "output_type": "stream",
     "text": [
      "[1, 4, 9]\n"
     ]
    }
   ],
   "source": [
    "a=[1,2,3]\n",
    "sq=[x**2 for x in a] # a의 각 원소 제곱\n",
    "print(sq)"
   ]
  },
  {
   "cell_type": "code",
   "execution_count": 38,
   "metadata": {},
   "outputs": [
    {
     "data": {
      "text/plain": [
       "[1, 4, 9]"
      ]
     },
     "execution_count": 38,
     "metadata": {},
     "output_type": "execute_result"
    }
   ],
   "source": [
    "sq2=map(lambda x:x**2 , a)\n",
    "list(sq2)"
   ]
  },
  {
   "cell_type": "code",
   "execution_count": 39,
   "metadata": {},
   "outputs": [],
   "source": [
    "alt=map(lambda x:x**2, filter(lambda x:x%2==0,a))"
   ]
  },
  {
   "cell_type": "code",
   "execution_count": 40,
   "metadata": {},
   "outputs": [
    {
     "data": {
      "text/plain": [
       "[4]"
      ]
     },
     "execution_count": 40,
     "metadata": {},
     "output_type": "execute_result"
    }
   ],
   "source": [
    "list(alt)"
   ]
  },
  {
   "cell_type": "code",
   "execution_count": 42,
   "metadata": {},
   "outputs": [
    {
     "name": "stdout",
     "output_type": "stream",
     "text": [
      "[4]\n"
     ]
    }
   ],
   "source": [
    "even_sq=[x**2 for x in a if x%2==0] # list comprehension\n",
    "print(even_sq)"
   ]
  },
  {
   "cell_type": "code",
   "execution_count": 53,
   "metadata": {},
   "outputs": [
    {
     "name": "stdout",
     "output_type": "stream",
     "text": [
      "{1: 'kim', 2: 'lee', 3: 'Joo'}\n",
      "{3}\n"
     ]
    }
   ],
   "source": [
    "# 딕셔너리에서도 사용 가능\n",
    "\n",
    "chile_ranks={'kim':1,'lee':2, 'Joo':3} # (key, value)\n",
    "## dictionary comprehension : (name,rank) 쌍으로 적게 된다. \n",
    "rank_dict={rank: name for name, rank in chile_ranks.items()}\n",
    "chile_len_set={len(name) for name in rank_dict.values()}\n",
    "print(rank_dict)\n",
    "print(chile_len_set)"
   ]
  },
  {
   "cell_type": "code",
   "execution_count": 51,
   "metadata": {},
   "outputs": [
    {
     "data": {
      "text/plain": [
       "dict_items([('kim', 1), ('lee', 2), ('Joo', 3)])"
      ]
     },
     "execution_count": 51,
     "metadata": {},
     "output_type": "execute_result"
    }
   ],
   "source": [
    "chile_ranks.items()"
   ]
  },
  {
   "cell_type": "markdown",
   "metadata": {},
   "source": [
    "# Merge key values to list"
   ]
  },
  {
   "cell_type": "markdown",
   "metadata": {},
   "source": [
    "1. setdefault"
   ]
  },
  {
   "cell_type": "code",
   "execution_count": 61,
   "metadata": {},
   "outputs": [
    {
     "name": "stdout",
     "output_type": "stream",
     "text": [
      "The original list is : [{'gfg': 2, 'is': 4, 'best': 6}, {'it': 5, 'is': 7, 'best': 8}, {'CS': 10}]\n"
     ]
    }
   ],
   "source": [
    "test_list = [{'gfg' : 2, 'is' : 4, 'best' : 6},  \n",
    "             {'it' : 5, 'is' : 7, 'best' : 8}, \n",
    "             {'CS' : 10}] \n",
    "print(\"The original list is : \" + str(test_list)) \n",
    "  "
   ]
  },
  {
   "cell_type": "code",
   "execution_count": 58,
   "metadata": {},
   "outputs": [],
   "source": [
    "# using setdefault() + loop \n",
    "# Merge Python key values to list \n",
    "res = {} \n",
    "for sub in test_list: \n",
    "    for key, val in sub.items():  \n",
    "        res.setdefault(key, []).append(val)"
   ]
  },
  {
   "cell_type": "code",
   "execution_count": 59,
   "metadata": {},
   "outputs": [
    {
     "data": {
      "text/plain": [
       "{'gfg': [2], 'is': [4, 7], 'best': [6, 8], 'it': [5], 'CS': [10]}"
      ]
     },
     "execution_count": 59,
     "metadata": {},
     "output_type": "execute_result"
    }
   ],
   "source": [
    "res"
   ]
  },
  {
   "cell_type": "markdown",
   "metadata": {},
   "source": [
    "2. list comprehension + dictionary comprehension\n",
    "https://www.geeksforgeeks.org/python-merge-python-key-values-to-list/?ref=rp"
   ]
  },
  {
   "cell_type": "code",
   "execution_count": 47,
   "metadata": {},
   "outputs": [],
   "source": [
    "test_list = [{'gfg' : 2, 'is' : 4, 'best' : 6},  \n",
    "             {'it' : 5, 'is' : 7, 'best' : 8}, \n",
    "             {'CS' : 10}] "
   ]
  },
  {
   "cell_type": "code",
   "execution_count": 63,
   "metadata": {},
   "outputs": [
    {
     "data": {
      "text/plain": [
       "{'is': [4, 7], 'it': [5], 'CS': [10], 'gfg': [2], 'best': [8, 6]}"
      ]
     },
     "execution_count": 63,
     "metadata": {},
     "output_type": "execute_result"
    }
   ],
   "source": [
    "# using list comprehension + dictionary comprehension \n",
    "# Merge Python key values to list \n",
    "res = {key: list({sub[key] for sub in test_list if key in sub}) \n",
    "      for key in {key for sub in test_list for key in sub}} \n",
    "\n",
    "res"
   ]
  },
  {
   "cell_type": "markdown",
   "metadata": {},
   "source": [
    "# class에 대해서\n",
    "#### instance(속성-self.XX..), method(행위-func) , 특별한 method들(언더바 2개로 쌓여진 함수)"
   ]
  },
  {
   "cell_type": "markdown",
   "metadata": {},
   "source": [
    "1. __init__: 초기화하는 메서드(=생성자라고도 부름), 처음 인스턴스 만들 때 동시에 실행된다.\n",
    "2. __dict__: 클래스의 속성을 딕셔너리로 반환\n",
    "3. __del__: 소멸자라고도 부름, 객체가 없어질 때 실행되는 메서드\n",
    "4. __repr__: return문\n"
   ]
  },
  {
   "cell_type": "code",
   "execution_count": 24,
   "metadata": {},
   "outputs": [],
   "source": [
    "class circle:\n",
    "    pi=3.14 # class 변수-> 해당 클래스로부터 파생된 모든 인스턴스가 공유하는 값\n",
    "    \n",
    "    def __init__(self,name1,radius2):\n",
    "        \n",
    "        # 인스턴스 변수\n",
    "        self.name=name1 #name, radius는 클래스의 속성(특정)\n",
    "        self.radius=radius2\n",
    "        \n",
    "    def area(self): # area라는 함수는 클래스의 행위(method)\n",
    "        return circle.pi*self.radius**2\n",
    "    \n",
    "    def __del__(self):\n",
    "        print(\"해당 객체를 삭제합니다.\")\n",
    "        \n",
    "    def __repr__(self):\n",
    "        return self.name"
   ]
  },
  {
   "cell_type": "code",
   "execution_count": 25,
   "metadata": {},
   "outputs": [
    {
     "name": "stdout",
     "output_type": "stream",
     "text": [
      "해당 객체를 삭제합니다.\n",
      "c1의 면적은  50.24\n",
      "c2의 면적은  78.5\n",
      "c1의 속성들:  {'name': 'c1', 'radius': 4}\n",
      "c1의 반지름은 4cm이다.\n"
     ]
    }
   ],
   "source": [
    "c1=circle(\"c1\",4)\n",
    "c2=circle(\"c2\",5)\n",
    "print('c1의 면적은 ', c1.area())\n",
    "print('c2의 면적은 ', c2.area())\n",
    "print('c1의 속성들: ',c1.__dict__)\n",
    "print('c1의 반지름은 '+ str(c1.__dict__['radius']) +'cm이다.')"
   ]
  },
  {
   "cell_type": "code",
   "execution_count": 26,
   "metadata": {},
   "outputs": [
    {
     "name": "stdout",
     "output_type": "stream",
     "text": [
      "해당 객체를 삭제합니다.\n"
     ]
    }
   ],
   "source": [
    "del c1"
   ]
  },
  {
   "cell_type": "code",
   "execution_count": 27,
   "metadata": {},
   "outputs": [
    {
     "name": "stdout",
     "output_type": "stream",
     "text": [
      "c2\n"
     ]
    }
   ],
   "source": [
    "print(c2)"
   ]
  },
  {
   "cell_type": "markdown",
   "metadata": {},
   "source": [
    "# generator - yield\n",
    "- 메모리 절약, 수행시간 절약"
   ]
  },
  {
   "cell_type": "code",
   "execution_count": 42,
   "metadata": {},
   "outputs": [],
   "source": [
    "def aaa(): ### aaa는 제너레이터\n",
    "    a=range(3)\n",
    "    for x in a:\n",
    "        yield x\n",
    "        "
   ]
  },
  {
   "cell_type": "code",
   "execution_count": 43,
   "metadata": {},
   "outputs": [
    {
     "name": "stdout",
     "output_type": "stream",
     "text": [
      "<generator object aaa at 0x00000229501790A0>\n"
     ]
    }
   ],
   "source": [
    "generator=aaa()\n",
    "print(generator)"
   ]
  },
  {
   "cell_type": "code",
   "execution_count": 44,
   "metadata": {},
   "outputs": [
    {
     "name": "stdout",
     "output_type": "stream",
     "text": [
      "0\n",
      "1\n",
      "2\n"
     ]
    }
   ],
   "source": [
    "for n in generator:\n",
    "    print(n)"
   ]
  },
  {
   "cell_type": "code",
   "execution_count": 45,
   "metadata": {},
   "outputs": [],
   "source": [
    "for n in generator:\n",
    "    print(n) # 다시 출력하면 아무것도 반환하지 않는다."
   ]
  },
  {
   "cell_type": "code",
   "execution_count": 46,
   "metadata": {},
   "outputs": [
    {
     "name": "stdout",
     "output_type": "stream",
     "text": [
      "total time=  7.453096151351929\n"
     ]
    }
   ],
   "source": [
    "import time\n",
    " # 제너레이터를 사용하면 일반 루프보다 수행시간이 짧다. \n",
    "    \n",
    "def fibon(n):\n",
    "    a=b=1\n",
    "    for i in range(n):\n",
    "        yield a\n",
    "        a,b=b,a+b # 더한것이 마지막에 오고, 기존 마지막이 첫번째가 된다.\n",
    "        \n",
    "        \n",
    "start_t=time.time() # 계산 시작 시간\n",
    "for x in fibon(1000000):\n",
    "    pass\n",
    "\n",
    "end_t=time.time() # 계산 끝난 시간\n",
    "\n",
    "print(\"total time= \", end_t-start_t) # 계산수행 시 걸린 시간"
   ]
  },
  {
   "cell_type": "markdown",
   "metadata": {},
   "source": [
    "# staticmethod, classmethod\n",
    "\n",
    "- 정적메소드, 클래스 메소드는 인스턴스 형성 후 호출되는 함수가 아니라, 클래스에서 바로 호출 가능한 함수이다.\n",
    "- 메소드 위에 `@staticmethod`,`@classmethod`를 적어야 함\n",
    "- 정적 메소드는 self.가 필요없으며 , 클래스 메소드는 cls를 사용해 클래스 속성을 인자로 전달받음"
   ]
  },
  {
   "cell_type": "code",
   "execution_count": 4,
   "metadata": {},
   "outputs": [
    {
     "name": "stdout",
     "output_type": "stream",
     "text": [
      "2\n"
     ]
    }
   ],
   "source": [
    "class test:\n",
    "    def instance_add(self,a,b):\n",
    "        return a+b\n",
    "    \n",
    "    @staticmethod\n",
    "    def static_add(a,b): # self안적어도 무방\n",
    "        return a+b\n",
    "    \n",
    "    @classmethod\n",
    "    def class_add(cls,a,b): # self대신 cls로 class인 test를 인자로 받음\n",
    "        return a+b\n",
    "    \n",
    "# 인스턴스\n",
    "a=test()\n",
    "print(a.instance_add(1,1))"
   ]
  },
  {
   "cell_type": "code",
   "execution_count": 7,
   "metadata": {},
   "outputs": [
    {
     "name": "stdout",
     "output_type": "stream",
     "text": [
      "2\n",
      "2\n"
     ]
    }
   ],
   "source": [
    "# 스테틱 메소드 호출\n",
    "\n",
    "b=test\n",
    "print(test.static_add(1,1)) # 인스턴스 형성 안해도 가능\n",
    "\n",
    "print(test.class_add(1,1))"
   ]
  },
  {
   "cell_type": "markdown",
   "metadata": {},
   "source": [
    "# 중첩함수"
   ]
  },
  {
   "cell_type": "code",
   "execution_count": null,
   "metadata": {},
   "outputs": [],
   "source": [
    "# https://rfriend.tistory.com/368"
   ]
  },
  {
   "cell_type": "code",
   "execution_count": null,
   "metadata": {},
   "outputs": [],
   "source": []
  },
  {
   "cell_type": "markdown",
   "metadata": {},
   "source": [
    "# decorator @\n",
    "\n",
    "- 함수를 받아 명령을 **추가**한 뒤, 이를 다시 함수 형태로 반환하는 함수.\n",
    "- 함수 내부를 수정하지 않으면서 기능을 추가하고 싶을 때 사용함.\n",
    "- 함수의 후처리/전처리에 필요가 있을 때 주로 사용\n",
    "- 반복을 줄이고 메소드나 함수의 책임을 확장함\n",
    "\n",
    "아래 코드의 출처: https://3months.tistory.com/344?category=753896"
   ]
  },
  {
   "cell_type": "code",
   "execution_count": 8,
   "metadata": {},
   "outputs": [
    {
     "name": "stdout",
     "output_type": "stream",
     "text": [
      "I am doing some boring work before executing a_func()\n",
      "I am the function which needs some decoration to remove my foul smell\n",
      "I am doing some boring work after executing a_func()\n"
     ]
    }
   ],
   "source": [
    "# 간단한 decoration 구현\n",
    "\n",
    "def a_function_requiring_decoration(): # 수정해야할 함수코드\n",
    "    print(\"I am the function which needs some decoration to remove my foul smell\") \n",
    " \n",
    "def b_function(): # 위 함수를 이용해서 수정한 함수 코드\n",
    "    print(\"I am doing some boring work before executing a_func()\") \n",
    "    print(\"I am the function which needs some decoration to remove my foul smell\")   \n",
    "    print(\"I am doing some boring work after executing a_func()\")\n",
    " \n",
    "b_function()\n",
    "\n",
    "## 2개 함수 모두에게서 foul smell부분을 삭제하려면 2개 함수 모두 수정해야한다."
   ]
  },
  {
   "cell_type": "code",
   "execution_count": 9,
   "metadata": {},
   "outputs": [
    {
     "name": "stdout",
     "output_type": "stream",
     "text": [
      "I am doing some boring work before executing a_func()\n",
      "I am the function which needs some decoration to remove my foul smell\n",
      "I am doing some boring work after executing a_func()\n"
     ]
    }
   ],
   "source": [
    "# 아래 함수를 기능을 추가해서 decoration 해주는 함수\n",
    "\n",
    "\n",
    "def a_new_decorator(a_func):# 추가될 기능함수를 인자로 받는다.\n",
    "\n",
    "\n",
    "\n",
    "    # 함수 안에 함수를 정의\n",
    "    def wrapTheFunction(): \n",
    "        print(\"I am doing some boring work before executing a_func()\") \n",
    "        a_func() \n",
    "        print(\"I am doing some boring work after executing a_func()\")\n",
    " \n",
    "    return wrapTheFunction # 내부 함수 리턴\n",
    "\n",
    "\n",
    " \n",
    "# 이 함수를 decoration (기능을 추가) 하고 싶음\n",
    "def a_function_requiring_decoration(): \n",
    "    print(\"I am the function which needs some decoration to remove my foul smell\")\n",
    "\n",
    "a_function_requiring_decoration = a_new_decorator(a_function_requiring_decoration)\n",
    "a_function_requiring_decoration()\n",
    "\n",
    "# 즉, 데코레이터함수에 기능추가할 함수를 넣으면 기존함수에 기능추가됨"
   ]
  },
  {
   "cell_type": "code",
   "execution_count": 10,
   "metadata": {},
   "outputs": [
    {
     "name": "stdout",
     "output_type": "stream",
     "text": [
      "I am doing some boring work before executing a_func()\n",
      "I am the function which needs some decoration to remove my foul smell\n",
      "I am doing some boring work after executing a_func()\n",
      "wrapTheFunction\n"
     ]
    }
   ],
   "source": [
    "# @를 붙임으로써 a_function_requiring_decoration = a_new_decorator(a_function_requiring_decoration) 이걸 안 해도 된다.\n",
    "@a_new_decorator \n",
    "def a_function_requiring_decoration(): \n",
    "    \"\"\"Hey you! Decorate me!\"\"\" \n",
    "    print(\"I am the function which needs some decoration to \" \"remove my foul smell\") \n",
    "\n",
    "a_function_requiring_decoration()  \n",
    "# 근데 함수명이 이상하게 나옴. wrapTheFunction \n",
    "print(a_function_requiring_decoration.__name__)\n"
   ]
  },
  {
   "cell_type": "code",
   "execution_count": 11,
   "metadata": {},
   "outputs": [
    {
     "name": "stdout",
     "output_type": "stream",
     "text": [
      "I am doing some boring work before executing a_func()\n",
      "I am the function which needs some decoration to remove my foul smell\n",
      "I am doing some boring work after executing a_func()\n",
      "a_function_requiring_decoration\n"
     ]
    }
   ],
   "source": [
    "from functools import wraps\n",
    "# 최종적인 decorator의 일반적인 형태\n",
    "# a_function_requiring_decoration을 a_new_decorator로 decorating 한다는 것이다. 이 때 decorate 할 함수는 a_func에 지정하고 이를 wraps로 받아서 그 아래 함수로 decoration 함\n",
    " \n",
    "def a_new_decorator(a_func):\n",
    "    @wraps(a_func)\n",
    "    def wrapTheFunction(): \n",
    "        print(\"I am doing some boring work before executing a_func()\") \n",
    "        a_func() \n",
    "        print(\"I am doing some boring work after executing a_func()\")\n",
    " \n",
    "    return wrapTheFunction\n",
    " \n",
    "@a_new_decorator \n",
    "def a_function_requiring_decoration(): \n",
    "    \"\"\"Hey you! Decorate me!\"\"\"\n",
    "    print(\"I am the function which needs some decoration to \" \"remove my foul smell\")\n",
    " \n",
    "a_function_requiring_decoration() \n",
    " \n",
    "print(a_function_requiring_decoration.__name__)  # a_function_requiring_decoration\n",
    "\n",
    "\n"
   ]
  },
  {
   "cell_type": "markdown",
   "metadata": {},
   "source": [
    "# 가변길이 hyperparameter 받기: `*args`, `**kargs`\n",
    "\n",
    "- `*args`: for non-keworded arguments, 이를 통해 함수는 가변길이 인자를 전달받는다. 전달받은 인자들은 함수 내부에서 **list**처럼 다룰 수 있다. 미리 list로 정의한 후, `*`을 통해서 함수의 인자로 넘길 수 있다.\n",
    "- `**kargs`: for keworded arguments, 이를 통해 가변길이 인자를 전달받고 + 함수 내에서 dictionary처럼 다룰 수 있다. 미리 dictionary로 정의한 후 `**`를 통해 함수의 인자로 넘길 수 있다.\n",
    "\n",
    "아래는 그 예시이다."
   ]
  },
  {
   "cell_type": "code",
   "execution_count": 1,
   "metadata": {},
   "outputs": [],
   "source": [
    "def oneStar(f_arg,*args):\n",
    "    print(\"first normal arg: {}\".format(f_arg))\n",
    "    for arg in args: # args는 리스트\n",
    "        print(\"another argument through *arg list! \", arg)\n",
    "        "
   ]
  },
  {
   "cell_type": "code",
   "execution_count": 2,
   "metadata": {},
   "outputs": [
    {
     "name": "stdout",
     "output_type": "stream",
     "text": [
      "first normal arg: yasoob\n",
      "another argument through *arg list!  python\n",
      "another argument through *arg list!  asdf\n"
     ]
    }
   ],
   "source": [
    "oneStar('yasoob','python','asdf')"
   ]
  },
  {
   "cell_type": "code",
   "execution_count": 4,
   "metadata": {},
   "outputs": [
    {
     "name": "stdout",
     "output_type": "stream",
     "text": [
      "first normal arg: hi\n",
      "another argument through *arg list!  yasoob\n",
      "another argument through *arg list!  python\n",
      "another argument through *arg list!  eggs\n",
      "another argument through *arg list!  test\n"
     ]
    }
   ],
   "source": [
    "param = ['yasoob', 'python', 'eggs', 'test']\n",
    "oneStar('hi', *param) # 리스트로도 정의 가능함."
   ]
  },
  {
   "cell_type": "code",
   "execution_count": 5,
   "metadata": {},
   "outputs": [
    {
     "name": "stdout",
     "output_type": "stream",
     "text": [
      "dict_items([('name', 'yasoob'), ('school', 'snu')])\n",
      "name = yasoob\n",
      "school = snu\n"
     ]
    }
   ],
   "source": [
    "def greet_me(**kwargs):\n",
    "    print(kwargs.items())\n",
    "    for key, value in kwargs.items():\n",
    "        print(\"{0} = {1}\".format(key, value))\n",
    "        \n",
    "greet_me(name=\"yasoob\", school=\"snu\")\n",
    "\n",
    "\n",
    "# 출처: https://3months.tistory.com/347 [Deep Play]"
   ]
  },
  {
   "cell_type": "code",
   "execution_count": 6,
   "metadata": {},
   "outputs": [
    {
     "name": "stdout",
     "output_type": "stream",
     "text": [
      "dict_items([('name', 'yasoob'), ('school', 'snu')])\n",
      "name = yasoob\n",
      "school = snu\n"
     ]
    }
   ],
   "source": [
    "kwargs = {\"name\": 'yasoob', 'school' :\"snu\"}\n",
    "greet_me(**kwargs)"
   ]
  },
  {
   "cell_type": "markdown",
   "metadata": {},
   "source": [
    "# 상속, 오버라이딩\n",
    "\n",
    "- 오버라이딩: 상속 관계에서 동일한 이름의 메소드가 있을 때, 특정 클래스의 메소드를 무시하고, 다른 클래스의 메소드를 사용하는 방식.\n",
    "- 부모와 자식 클래스가 있을 때. 오버라이딩을 하게 되면 --> 부모를 무시하고 자식 클래스의 메소드가 호출된다."
   ]
  },
  {
   "cell_type": "code",
   "execution_count": 9,
   "metadata": {},
   "outputs": [
    {
     "name": "stdout",
     "output_type": "stream",
     "text": [
      "자식의 over method\n",
      "None\n"
     ]
    }
   ],
   "source": [
    "class parent:\n",
    "    def over(self):\n",
    "        print('부모의 over method')\n",
    "        \n",
    "class child(parent):\n",
    "    def over(self):\n",
    "        print('자식의 over method')\n",
    "        \n",
    "a=child()\n",
    "print(a.over())"
   ]
  },
  {
   "cell_type": "markdown",
   "metadata": {},
   "source": [
    "* super()을 사용하는 이유: 필요에 의해 부모클래스 메소드를 무시했으나, 이를 추가로 필요한 경우."
   ]
  },
  {
   "cell_type": "code",
   "execution_count": 13,
   "metadata": {},
   "outputs": [
    {
     "name": "stdout",
     "output_type": "stream",
     "text": [
      "부모의 over method\n",
      "자식의 over method\n",
      "None\n"
     ]
    }
   ],
   "source": [
    "class parent:\n",
    "    def over(self):\n",
    "        print('부모의 over method')\n",
    "        \n",
    "class child(parent):\n",
    "    \n",
    "    def over(self):\n",
    "        #super().__init__() # 부모클래스의 over메소드도 물려받는다.\n",
    "        super().over()\n",
    "        print('자식의 over method')\n",
    "        \n",
    "        \n",
    "a2=child()\n",
    "print(a2.over())"
   ]
  },
  {
   "cell_type": "markdown",
   "metadata": {},
   "source": [
    "## super.__init__()"
   ]
  },
  {
   "cell_type": "code",
   "execution_count": 17,
   "metadata": {},
   "outputs": [],
   "source": [
    "class parent:\n",
    "    def __init__(self,p1,p2):\n",
    "        self.p1=p1\n",
    "        self.p2=p2\n",
    "        \n",
    "        \n",
    "        \n",
    "class child(parent):\n",
    "    def __init__(self,c1,**kwargs):\n",
    "        super(child,self).__init__(**kwargs) # parent클래스의 __init__()메소드의\n",
    "        # 변수를 가져올 수 있다. 즉, super은 상속받은 부모 클래스의 의미.\n",
    "        self.c1=c1\n",
    "        self.c2='this is child`s c2'\n",
    "        self.c3='this is child`s c3'\n",
    "        \n",
    "        \n",
    "child = child(p1=\"This is Parent's p1\", \n",
    "\t      p2=\"This is Parent's p1\", \n",
    "              c1=\"This is Child's c1\")\n"
   ]
  },
  {
   "cell_type": "code",
   "execution_count": 18,
   "metadata": {},
   "outputs": [
    {
     "name": "stdout",
     "output_type": "stream",
     "text": [
      "This is Parent's p1\n",
      "This is Parent's p1\n",
      "This is Child's c1\n",
      "this is child`s c2\n",
      "this is child`s c3\n"
     ]
    }
   ],
   "source": [
    "print(child.p1)\n",
    "print(child.p2) # 얘네 둘은 child에서 정의가 안 된 변수이나 super로 인해 상속받은 변수.\n",
    "print(child.c1)\n",
    "print(child.c2)\n",
    "print(child.c3)"
   ]
  },
  {
   "cell_type": "markdown",
   "metadata": {},
   "source": [
    "# <span style='color:red'>예외처리</span>\n",
    "\n",
    "- 프로그램 실행 시 발생하는 에러 = 예외 ( ZeroDivisionError, AttributeError, NameError, TypeError 등..)\n",
    "- 예외처리: 에러 발생 시, 예외를 무시하고 코드를 실행시킨다/ 특정 예외가 발생하면 메세지 출력 등등의 처리를 하는 코드\n",
    "- `try`: 예외가 발생할 수 있는 코드(사용자가 수행하고 싶은 코드)\n",
    "- `except`: 예외가 발생했을 때 실행할 코드\n",
    "- `else`: 예외가 발생하지 않았을 때 실행할 코드\n",
    "- `finally`: 예외 발생 여부와 상관없이 무조건 실행할 코드\n",
    "\n",
    "\n"
   ]
  },
  {
   "cell_type": "code",
   "execution_count": 21,
   "metadata": {},
   "outputs": [
    {
     "name": "stdout",
     "output_type": "stream",
     "text": [
      "0으로 나누지 마세요\n"
     ]
    }
   ],
   "source": [
    "# ex. ZeroDivisionError: 0으로 나눌 수 없는 경우 발생하는 에러\n",
    "\n",
    "def division(a,b):\n",
    "    x=a/b\n",
    "    print(x)\n",
    "    \n",
    "#division(4,0)  ZeroDivisionError발생\n",
    "\n",
    "try:\n",
    "    division(4,0) # 이 코드를 실행하고,\n",
    "except:\n",
    "    print('0으로 나누지 마세요') # 만약 에러가 나면 이 코드를 발생시킨다.\n",
    " "
   ]
  },
  {
   "cell_type": "code",
   "execution_count": 23,
   "metadata": {},
   "outputs": [
    {
     "name": "stdout",
     "output_type": "stream",
     "text": [
      "0으로 나누지 마세요. division by zero에러가 발생합니다.\n"
     ]
    }
   ],
   "source": [
    " # 또는 발생된 예외를 변수에 담아 사용 가능\n",
    "    \n",
    "\n",
    "def division(a,b):\n",
    "    x=a/b\n",
    "    print(x)\n",
    "    \n",
    "    \n",
    "try:\n",
    "    division(4,0)\n",
    "except ZeroDivisionError as e: # 해당 에러를 'e'라는 변수에 할당한 후,\n",
    "    print('0으로 나누지 마세요. {0}에러가 발생합니다.'.format(e))"
   ]
  },
  {
   "cell_type": "code",
   "execution_count": 24,
   "metadata": {},
   "outputs": [
    {
     "name": "stdout",
     "output_type": "stream",
     "text": [
      "2.0\n",
      "나눗셈을 정상적으로 실행했습니다.\n",
      "프로그램 종료\n"
     ]
    }
   ],
   "source": [
    "def division(a, b):\n",
    "    x = a / b\n",
    "    print(x)\n",
    "    \n",
    "    \n",
    "try:\n",
    "    division(4,2) # 이 코드를 실행하고,\n",
    "except ZeroDivisionError as e:\n",
    "    # 에러 발생한다면, 다음 코드를 실행하며,\n",
    "    print('0으로 나누지 마세요. {0}에러가 발생합니다.'.format(e))\n",
    "else: \n",
    "    # 에러 발생이 안된다면, 다음 코드를 실행하며,\n",
    "    print('나눗셈을 정상적으로 실행했습니다.')\n",
    "finally:\n",
    "    # 에러 발생하든말든 다음 코드를 실행한다.\n",
    "    print('프로그램 종료')"
   ]
  },
  {
   "cell_type": "markdown",
   "metadata": {},
   "source": [
    " ## raise:직접 예외를 발생시켜서 만들어낼 수 있다. <br>(사용자 정의 예외 처리) </p>"
   ]
  },
  {
   "cell_type": "code",
   "execution_count": 51,
   "metadata": {},
   "outputs": [],
   "source": [
    "def division():\n",
    "    x, y = map(int, input('나눗셈의 결과가 1이될 두 숫자를 입력하세요(구분은 spacebar): ').split())\n",
    "    result = x / y\n",
    "    if result != 1:\n",
    "        raise Exception('나눗셈의 결과가 1이 아닙니다.')\n",
    "    print(result)"
   ]
  },
  {
   "cell_type": "code",
   "execution_count": 53,
   "metadata": {},
   "outputs": [
    {
     "name": "stdout",
     "output_type": "stream",
     "text": [
      "나눗셈의 결과가 1이될 두 숫자를 입력하세요(구분은 spacebar): 1 4\n",
      "예외 발생\n"
     ]
    }
   ],
   "source": [
    "try:\n",
    "    division()\n",
    "except:\n",
    "    print('예외 발생')"
   ]
  },
  {
   "cell_type": "markdown",
   "metadata": {},
   "source": [
    "# <span style='color:green'>Formatting</span>\n",
    "# <p style=\"font-family:'Papyrus'\"> New font.</p>\n",
    "\n",
    "- 포맷팅: 문자열을 더 잘 표현하기 위한 방법이다.\n",
    "- 포맷팅 방법\n",
    "    - `%`\n",
    "    - `{}.format()`\n",
    "    "
   ]
  },
  {
   "cell_type": "code",
   "execution_count": null,
   "metadata": {},
   "outputs": [],
   "source": []
  },
  {
   "cell_type": "code",
   "execution_count": null,
   "metadata": {},
   "outputs": [],
   "source": []
  },
  {
   "cell_type": "code",
   "execution_count": null,
   "metadata": {},
   "outputs": [],
   "source": []
  },
  {
   "cell_type": "code",
   "execution_count": null,
   "metadata": {},
   "outputs": [],
   "source": []
  },
  {
   "cell_type": "code",
   "execution_count": null,
   "metadata": {},
   "outputs": [],
   "source": []
  },
  {
   "cell_type": "code",
   "execution_count": null,
   "metadata": {},
   "outputs": [],
   "source": []
  },
  {
   "cell_type": "code",
   "execution_count": null,
   "metadata": {},
   "outputs": [],
   "source": []
  },
  {
   "cell_type": "code",
   "execution_count": null,
   "metadata": {},
   "outputs": [],
   "source": []
  },
  {
   "cell_type": "code",
   "execution_count": null,
   "metadata": {},
   "outputs": [],
   "source": []
  },
  {
   "cell_type": "code",
   "execution_count": null,
   "metadata": {},
   "outputs": [],
   "source": []
  },
  {
   "cell_type": "code",
   "execution_count": null,
   "metadata": {},
   "outputs": [],
   "source": []
  },
  {
   "cell_type": "code",
   "execution_count": null,
   "metadata": {},
   "outputs": [],
   "source": []
  },
  {
   "cell_type": "code",
   "execution_count": null,
   "metadata": {},
   "outputs": [],
   "source": []
  }
 ],
 "metadata": {
  "kernelspec": {
   "display_name": "Python 3",
   "language": "python",
   "name": "python3"
  },
  "language_info": {
   "codemirror_mode": {
    "name": "ipython",
    "version": 3
   },
   "file_extension": ".py",
   "mimetype": "text/x-python",
   "name": "python",
   "nbconvert_exporter": "python",
   "pygments_lexer": "ipython3",
   "version": "3.6.10"
  }
 },
 "nbformat": 4,
 "nbformat_minor": 4
}
